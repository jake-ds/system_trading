{
 "cells": [
  {
   "cell_type": "markdown",
   "metadata": {},
   "source": [
    "### stock_info"
   ]
  },
  {
   "cell_type": "code",
   "execution_count": 15,
   "metadata": {},
   "outputs": [],
   "source": [
    "# 종목기본정보 \n",
    "# 종목번호(id) / 종목이름 / 시장구분\n",
    "\n",
    "import pandas as pd\n",
    "\n",
    "## data download : http://marketdata.krx.co.kr/mdi#document=040601\n",
    "kospi_df = pd.read_csv(\"./data/kospi_data.csv\", encoding=\"utf8\") \n",
    "kosdaq_df = pd.read_csv(\"./data/kosdaq_data.csv\", encoding=\"utf8\")\n",
    "\n",
    "kospi_df[\"시장구분\"] = \"KS\"\n",
    "kosdaq_df[\"시장구분\"] = \"KQ\"\n",
    "\n",
    "total_df = pd.concat([kospi_df, kosdaq_df], axis=0)\n",
    "total_df = total_df[[\"종목코드\", \"기업명\", \"업종코드\", \"업종\"]]\n",
    "total_df = total_df.rename(columns={\"종목코드\":\"stock_code\", \"기업명\":\"name\", \"업종코드\":\"business_code\", \"업종\":\"business\"})\n",
    "\n",
    "def code_to_string(code):\n",
    "    code = str(code)\n",
    "    if len(code) == 6:\n",
    "        return code\n",
    "    else:\n",
    "        return \"0\"*(6-len(code)) + code\n",
    "    \n",
    "total_df[\"stock_code\"] = total_df[\"stock_code\"].map(lambda x : code_to_string(x))\n",
    "total_df[\"business_code\"] = total_df[\"business_code\"].map(lambda x : code_to_string(x))"
   ]
  },
  {
   "cell_type": "markdown",
   "metadata": {},
   "source": [
    "#### create table "
   ]
  },
  {
   "cell_type": "code",
   "execution_count": 26,
   "metadata": {},
   "outputs": [],
   "source": [
    "# 최초 실행시 table 생성\n",
    "\n",
    "from db_info import db_info_get\n",
    "from utils import db_connect\n",
    "db_info = db_info_get(\"stock\")\n",
    "\n",
    "db_conn, cursor = db_connect(db_info)\n",
    "\n",
    "cursor.execute(\"drop table if exists stock.stock_master\")\n",
    "\n",
    "sql = \"CREATE table stock.stock_master(\\\n",
    "stock_code CHAR(6),\\\n",
    "name CHAR(20),\\\n",
    "business_code CHAR(6),\\\n",
    "business CHAR(100),\\\n",
    "TS TIMESTAMP NOT NULL DEFAULT CURRENT_TIMESTAMP,\\\n",
    "primary KEY(stock_code))\\\n",
    " ENGINE=InnoDB\\\n",
    " default CHARSET = utf8\\\n",
    " collate = utf8_general_ci;\"\n",
    "\n",
    "cursor.execute(sql)\n",
    "\n",
    "db_conn.commit()\n",
    "db_conn.close()"
   ]
  },
  {
   "cell_type": "markdown",
   "metadata": {},
   "source": [
    "#### data insert "
   ]
  },
  {
   "cell_type": "code",
   "execution_count": 27,
   "metadata": {},
   "outputs": [],
   "source": [
    "from utils import df_to_db\n",
    "from db_info import db_info_get\n",
    "from utils import db_connect\n",
    "\n",
    "# database 접속 정보 로딩\n",
    "db_info = db_info_get(\"stock\")\n",
    "\n",
    "df_to_db(total_df, \"stock_master\", db_info, if_exists=\"append\")"
   ]
  },
  {
   "cell_type": "markdown",
   "metadata": {},
   "source": [
    "#### data insert 확인 "
   ]
  },
  {
   "cell_type": "code",
   "execution_count": 24,
   "metadata": {},
   "outputs": [
    {
     "name": "stdout",
     "output_type": "stream",
     "text": [
      "  stock_code   name business_code        business                  TS\n",
      "0     000020   동화약품        032102         의약품 제조업 2020-09-18 00:07:44\n",
      "1     000040  KR모터스        033109  그외 기타 운송장비 제조업 2020-09-18 00:07:44\n",
      "2     000050     경방        074701          종합 소매업 2020-09-18 00:07:44\n",
      "3     000060  메리츠화재        116501             보험업 2020-09-18 00:07:44\n",
      "4     000070  삼양홀딩스        116409          기타 금융업 2020-09-18 00:07:44\n"
     ]
    }
   ],
   "source": [
    "db_conn, cursor = db_connect(db_info)\n",
    "df = pd.read_sql(\"select * from stock.stock_master limit 5;\" , db_conn)\n",
    "print(df.head())\n",
    "\n",
    "db_conn.commit()\n",
    "db_conn.close()"
   ]
  },
  {
   "cell_type": "code",
   "execution_count": null,
   "metadata": {},
   "outputs": [],
   "source": []
  }
 ],
 "metadata": {
  "kernelspec": {
   "display_name": "Python 3",
   "language": "python",
   "name": "python3"
  },
  "language_info": {
   "codemirror_mode": {
    "name": "ipython",
    "version": 3
   },
   "file_extension": ".py",
   "mimetype": "text/x-python",
   "name": "python",
   "nbconvert_exporter": "python",
   "pygments_lexer": "ipython3",
   "version": "3.7.4"
  }
 },
 "nbformat": 4,
 "nbformat_minor": 4
}
