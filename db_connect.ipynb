{
 "cells": [
  {
   "cell_type": "markdown",
   "metadata": {},
   "source": [
    "### MySQL 연동하기"
   ]
  },
  {
   "cell_type": "code",
   "execution_count": 27,
   "metadata": {},
   "outputs": [],
   "source": [
    "import pymysql\n",
    "from db_info import db_info_get\n",
    "\n",
    "# database 접속 정보 로딩\n",
    "db_info = db_info_get(\"stock\")"
   ]
  },
  {
   "cell_type": "code",
   "execution_count": 135,
   "metadata": {},
   "outputs": [],
   "source": [
    "# connect 세팅\n",
    "db_conn = pymysql.connect(\n",
    "        host = db_info[\"host\"],\n",
    "        port = db_info[\"port\"], \n",
    "        user = db_info[\"user\"], \n",
    "        passwd = db_info[\"passwd\"], \n",
    "        db = db_info[\"db\"], \n",
    "        charset = db_info[\"charset\"])\n",
    "\n",
    "# cursor 세팅\n",
    "cursor = db_conn.cursor(pymysql.cursors.DictCursor)"
   ]
  },
  {
   "cell_type": "markdown",
   "metadata": {},
   "source": [
    "### Create Table "
   ]
  },
  {
   "cell_type": "code",
   "execution_count": 142,
   "metadata": {},
   "outputs": [],
   "source": [
    "sql = \"CREATE table stock.iris(\\\n",
    "idx_ int(3),\\\n",
    "sepal_length float(3,1),\\\n",
    "sepal_width float(3,1),\\\n",
    "petal_length float(3,1),\\\n",
    "petal_width float(3,1),\\\n",
    "primary KEY(idx_))\\\n",
    " ENGINE=InnoDB\\\n",
    " default CHARSET = utf8\\\n",
    " collate = utf8_general_ci;\"\n",
    "\n",
    "cursor.execute(sql)"
   ]
  },
  {
   "cell_type": "markdown",
   "metadata": {},
   "source": [
    "#### Select Data"
   ]
  },
  {
   "cell_type": "code",
   "execution_count": 144,
   "metadata": {},
   "outputs": [
    {
     "data": {
      "text/html": [
       "<div>\n",
       "<style scoped>\n",
       "    .dataframe tbody tr th:only-of-type {\n",
       "        vertical-align: middle;\n",
       "    }\n",
       "\n",
       "    .dataframe tbody tr th {\n",
       "        vertical-align: top;\n",
       "    }\n",
       "\n",
       "    .dataframe thead th {\n",
       "        text-align: right;\n",
       "    }\n",
       "</style>\n",
       "<table border=\"1\" class=\"dataframe\">\n",
       "  <thead>\n",
       "    <tr style=\"text-align: right;\">\n",
       "      <th></th>\n",
       "      <th>idx_</th>\n",
       "      <th>sepal_length</th>\n",
       "      <th>sepal_width</th>\n",
       "      <th>petal_length</th>\n",
       "      <th>petal_width</th>\n",
       "    </tr>\n",
       "  </thead>\n",
       "  <tbody>\n",
       "    <tr>\n",
       "      <td>0</td>\n",
       "      <td>0</td>\n",
       "      <td>5.1</td>\n",
       "      <td>3.5</td>\n",
       "      <td>1.4</td>\n",
       "      <td>0.2</td>\n",
       "    </tr>\n",
       "    <tr>\n",
       "      <td>1</td>\n",
       "      <td>1</td>\n",
       "      <td>4.9</td>\n",
       "      <td>3.0</td>\n",
       "      <td>1.4</td>\n",
       "      <td>0.2</td>\n",
       "    </tr>\n",
       "    <tr>\n",
       "      <td>2</td>\n",
       "      <td>2</td>\n",
       "      <td>4.7</td>\n",
       "      <td>3.2</td>\n",
       "      <td>1.3</td>\n",
       "      <td>0.2</td>\n",
       "    </tr>\n",
       "    <tr>\n",
       "      <td>3</td>\n",
       "      <td>3</td>\n",
       "      <td>4.6</td>\n",
       "      <td>3.1</td>\n",
       "      <td>1.5</td>\n",
       "      <td>0.2</td>\n",
       "    </tr>\n",
       "    <tr>\n",
       "      <td>4</td>\n",
       "      <td>4</td>\n",
       "      <td>5.0</td>\n",
       "      <td>3.6</td>\n",
       "      <td>1.4</td>\n",
       "      <td>0.2</td>\n",
       "    </tr>\n",
       "  </tbody>\n",
       "</table>\n",
       "</div>"
      ],
      "text/plain": [
       "   idx_  sepal_length  sepal_width  petal_length  petal_width\n",
       "0     0           5.1          3.5           1.4          0.2\n",
       "1     1           4.9          3.0           1.4          0.2\n",
       "2     2           4.7          3.2           1.3          0.2\n",
       "3     3           4.6          3.1           1.5          0.2\n",
       "4     4           5.0          3.6           1.4          0.2"
      ]
     },
     "execution_count": 144,
     "metadata": {},
     "output_type": "execute_result"
    }
   ],
   "source": [
    "sql_statement = \"select * from stock.iris;\"\n",
    "df = pd.read_sql(sql_statement , db_conn)\n",
    "df.head()"
   ]
  },
  {
   "cell_type": "markdown",
   "metadata": {},
   "source": [
    "### dataframe to sql "
   ]
  },
  {
   "cell_type": "markdown",
   "metadata": {},
   "source": [
    "#### iris data loading"
   ]
  },
  {
   "cell_type": "code",
   "execution_count": 114,
   "metadata": {},
   "outputs": [],
   "source": [
    "from sklearn.datasets import load_iris\n",
    "import pandas as pd\n",
    "\n",
    "iris = load_iris()\n",
    "col = [\"sepal_length\",  \"sepal_width\", \"petal_length\", \"petal_width\"]\n",
    "df = pd.DataFrame(iris[\"data\"], columns=col)\n",
    "df = df.reset_index()\n",
    "df = df.rename(columns={\"index\":\"idx_\"})"
   ]
  },
  {
   "cell_type": "markdown",
   "metadata": {},
   "source": [
    "#### data insert "
   ]
  },
  {
   "cell_type": "code",
   "execution_count": 115,
   "metadata": {},
   "outputs": [],
   "source": [
    "import pandas as pd\n",
    "from sqlalchemy import create_engine\n",
    "\n",
    "# MySQL Connector using pymysql\n",
    "pymysql.install_as_MySQLdb()\n",
    "\n",
    "table_name = \"iris\"\n",
    "if_exists = \"replace\"\n",
    "engine_info = \"mysql+mysqldb://{user}:{passwd}@{host}/{db}\".format(user = db_info[\"user\"],\n",
    "                                                                   passwd = db_info[\"passwd\"], \n",
    "                                                                   host = db_info[\"host\"],\n",
    "                                                                   db = db_info[\"db\"])\n",
    "\n",
    "# db에서 컬럼 조회 후 df 컬럼과 일치하는지 확인\n",
    "\n",
    "engine = create_engine(engine_info, encoding='utf-8')\n",
    "conn = engine.connect()\n",
    "\n",
    "df.to_sql(name=table_name, con=conn, if_exists =if_exists, index=False)"
   ]
  },
  {
   "cell_type": "code",
   "execution_count": null,
   "metadata": {},
   "outputs": [],
   "source": [
    "system_trading\n",
    "DATA BASE SETTING\n",
    "MySQL install MySQL Download : https://dev.mysql.com/downloads/ reference : https://withcoding.com/26\n",
    "\n",
    "DBeaver install DBeaver Download : https://dbeaver.io/download/ 1) connect to database 2) choose MySQL 3) input Database, password, (MySQL default Port : 3306) 4) test connection -> error accrue : dbeaver unable to load authentication plugin 'caching_sha2_password' -> have to change authentication method at MySQL Command Line Client. insert <Alter USER 'root'@'localhost' IDENTIFIED WITH mysql_native_password BY 'abc';> (root = user name, abc = password)"
   ]
  }
 ],
 "metadata": {
  "kernelspec": {
   "display_name": "Python 3",
   "language": "python",
   "name": "python3"
  },
  "language_info": {
   "codemirror_mode": {
    "name": "ipython",
    "version": 3
   },
   "file_extension": ".py",
   "mimetype": "text/x-python",
   "name": "python",
   "nbconvert_exporter": "python",
   "pygments_lexer": "ipython3",
   "version": "3.7.4"
  }
 },
 "nbformat": 4,
 "nbformat_minor": 4
}
